{
 "cells": [
  {
   "cell_type": "code",
   "execution_count": null,
   "id": "dc8cdc67",
   "metadata": {},
   "outputs": [],
   "source": [
    "import pandas as pd\n",
    "import numpy as np\n",
    "import geopandas as gpd\n",
    "from datetime import datetime, timedelta"
   ]
  },
  {
   "cell_type": "markdown",
   "id": "a8c6bdad",
   "metadata": {},
   "source": [
    "## Funções de Apoio"
   ]
  },
  {
   "cell_type": "code",
   "execution_count": 29,
   "id": "45c199f0",
   "metadata": {},
   "outputs": [],
   "source": [
    "def load_data() -> pd.DataFrame:\n",
    "    \"\"\" Carrega os dados necessários para o projeto\"\"\"\n",
    "\n",
    "    # Carrega os arquivos CSV e concatenas eles em um unico dataframe\n",
    "    df = pd.read_csv('../assets/dados_violencia_mulheres_ses_2022.csv', sep=';')\n",
    "    df = pd.concat([df, pd.read_csv('../assets/dados_violencia_mulheres_ses_2023.csv', sep=';')])\n",
    "    df = pd.concat([df, pd.read_csv('../assets/dados_violencia_mulheres_ses_2021.csv', sep=';')])\n",
    "\n",
    "    # Converte as colunas para os tipos corretos\n",
    "    df.DT_NOTIFIC = pd.to_datetime(df.DT_NOTIFIC, format='%d/%m/%Y')\n",
    "    df.DT_NASC = pd.to_datetime(df.DT_NASC, format='%d/%m/%Y')\n",
    "    df.replace({'NU_IDADE_N': {np.nan: -1}}, inplace=True)\n",
    "    df.NU_IDADE_N = df.NU_IDADE_N.astype(int)\n",
    "    df.OUT_VEZES = df.OUT_VEZES.astype('category')\n",
    "    df.LES_AUTOP = df.LES_AUTOP.astype('category')\n",
    "    df.VIOL_FISIC = df.VIOL_FISIC.astype('category')\n",
    "    df.VIOL_PSICO = df.VIOL_PSICO.astype('category')\n",
    "    df.VIOL_SEXU = df.VIOL_SEXU.astype('category')\n",
    "    df.NUM_ENVOLV = df.NUM_ENVOLV.astype('category')\n",
    "    df.AUTOR_SEXO = df.AUTOR_SEXO.astype('category')\n",
    "    df.ORIENT_SEX = df.ORIENT_SEX.astype('category')\n",
    "    df.IDENT_GEN = df.IDENT_GEN.astype('category')\n",
    "    df.LOCAL_OCOR = df.LOCAL_OCOR.astype('category')\n",
    "    df.ID_MN_RESI = df.ID_MN_RESI.astype('category')\n",
    "    df.CS_RACA = df.CS_RACA.astype('category')\n",
    "    df.CS_SEXO = df.CS_SEXO.astype('category')\n",
    "\n",
    "    # remove qualquer linha que possa contar dados nulos ainda\n",
    "    df.dropna(inplace=True)\n",
    "    return df"
   ]
  },
  {
   "cell_type": "code",
   "execution_count": 30,
   "id": "ba50c501",
   "metadata": {},
   "outputs": [],
   "source": [
    "def load_feminicidio() -> pd.DataFrame:\n",
    "    df = pd.read_csv('../assets/feminicidio_2022.csv', sep=';')\n",
    "    df = pd.concat([df, pd.read_csv('../assets/feminicidio_2023.csv', sep=';')])\n",
    "    df = pd.concat([df, pd.read_csv('../assets/feminicidio_2021.csv', sep=';')])\n",
    "\n",
    "    df.data_fato = pd.to_datetime(df.data_fato, format='%Y-%m-%d')\n",
    "    # df.tentado_consumado = df.tentado_consumado.astype('category')\n",
    "    df.qtde_vitimas = df.qtde_vitimas.astype(int)\n",
    "    df.municipio_fato = df.municipio_fato.apply(lambda x: x.title())\n",
    "\n",
    "    return df"
   ]
  },
  {
   "cell_type": "code",
   "execution_count": 43,
   "id": "9ddc13ed",
   "metadata": {},
   "outputs": [],
   "source": [
    "def load_violencia() -> pd.DataFrame:\n",
    "    def parse_data(x):\n",
    "        try:\n",
    "            return pd.to_datetime(x, format='%Y-%m-%d %H:%M:%S')\n",
    "        except:\n",
    "            try:\n",
    "                # 45104\n",
    "                data_base = datetime(1900, 1, 1)\n",
    "                return data_base + timedelta(days=x -2)\n",
    "            except:\n",
    "                return pd.NaT\n",
    "\n",
    "    df = pd.read_csv('../assets/violencia_domestica_2023.csv', sep=';')\n",
    "\n",
    "    df.data_fato = df.data_fato.apply(parse_data)\n",
    "    return df"
   ]
  },
  {
   "cell_type": "markdown",
   "id": "efb9d59c",
   "metadata": {},
   "source": [
    "## Validando alguns dados"
   ]
  },
  {
   "cell_type": "code",
   "execution_count": 44,
   "id": "3abca325",
   "metadata": {},
   "outputs": [],
   "source": [
    "df = load_data()\n",
    "fe = load_feminicidio()\n",
    "vi = load_violencia()"
   ]
  },
  {
   "cell_type": "code",
   "execution_count": 32,
   "id": "0c4ef2f4",
   "metadata": {},
   "outputs": [
    {
     "data": {
      "text/plain": [
       "DT_NOTIFIC     1095\n",
       "DT_NASC       23646\n",
       "NU_IDADE_N      110\n",
       "CS_SEXO           1\n",
       "CS_RACA           6\n",
       "ID_MN_RESI      849\n",
       "LOCAL_OCOR       10\n",
       "OUT_VEZES         3\n",
       "LES_AUTOP         3\n",
       "VIOL_FISIC        3\n",
       "VIOL_PSICO        3\n",
       "VIOL_SEXU         3\n",
       "NUM_ENVOLV        3\n",
       "AUTOR_SEXO        4\n",
       "ORIENT_SEX        5\n",
       "IDENT_GEN         5\n",
       "dtype: int64"
      ]
     },
     "execution_count": 32,
     "metadata": {},
     "output_type": "execute_result"
    }
   ],
   "source": [
    "df.nunique()"
   ]
  },
  {
   "cell_type": "code",
   "execution_count": 33,
   "id": "b9610c8d",
   "metadata": {},
   "outputs": [
    {
     "data": {
      "text/plain": [
       "LOCAL_OCOR\n",
       "Residencia                    73681\n",
       "Ignorado                       9918\n",
       "Via pública                    8648\n",
       "Outro                          4182\n",
       "Bar ou similar                 1665\n",
       "Escola                         1301\n",
       "Comercio/Serviços               850\n",
       "Habitação coletiva              472\n",
       "Local de pratica esportiva      177\n",
       "Industria/Construção             74\n",
       "Name: count, dtype: int64"
      ]
     },
     "execution_count": 33,
     "metadata": {},
     "output_type": "execute_result"
    }
   ],
   "source": [
    "df.LOCAL_OCOR.value_counts()"
   ]
  },
  {
   "cell_type": "code",
   "execution_count": 34,
   "id": "22cee1d7",
   "metadata": {},
   "outputs": [
    {
     "data": {
      "text/plain": [
       "'Residencia'"
      ]
     },
     "execution_count": 34,
     "metadata": {},
     "output_type": "execute_result"
    }
   ],
   "source": [
    "df[df['ID_MN_RESI']== \"Belo Horizonte\"]['LOCAL_OCOR'].value_counts().idxmax()"
   ]
  },
  {
   "cell_type": "code",
   "execution_count": 35,
   "id": "0a6ced10",
   "metadata": {},
   "outputs": [
    {
     "data": {
      "text/plain": [
       "np.float64(20.577093784589277)"
      ]
     },
     "execution_count": 35,
     "metadata": {},
     "output_type": "execute_result"
    }
   ],
   "source": [
    "df[df['ID_MN_RESI']== \"Belo Horizonte\"]['NU_IDADE_N'].std()"
   ]
  },
  {
   "cell_type": "code",
   "execution_count": 36,
   "id": "b3dadcd9",
   "metadata": {},
   "outputs": [
    {
     "name": "stderr",
     "output_type": "stream",
     "text": [
      "/tmp/ipykernel_75724/591864412.py:1: FutureWarning: DataFrame.groupby with axis=1 is deprecated. Do `frame.T.groupby(...)` without axis instead.\n",
      "  df[df['ID_MN_RESI'] == \"Verdelândia\"][['LES_AUTOP', 'VIOL_FISIC', 'VIOL_PSICO', 'VIOL_SEXU']].groupby(axis=1, level=0).apply(lambda x: x.value_counts().loc['Sim'].sum()).reset_index().columns = ['Tipo de Violência', 'Quantidade']\n"
     ]
    }
   ],
   "source": [
    "df[df['ID_MN_RESI'] == \"Verdelândia\"][['LES_AUTOP', 'VIOL_FISIC', 'VIOL_PSICO', 'VIOL_SEXU']].groupby(axis=1, level=0).apply(lambda x: x.value_counts().loc['Sim'].sum()).reset_index().columns = ['Tipo de Violência', 'Quantidade']"
   ]
  },
  {
   "cell_type": "code",
   "execution_count": 37,
   "id": "f15926be",
   "metadata": {},
   "outputs": [
    {
     "data": {
      "text/html": [
       "<div>\n",
       "<style scoped>\n",
       "    .dataframe tbody tr th:only-of-type {\n",
       "        vertical-align: middle;\n",
       "    }\n",
       "\n",
       "    .dataframe tbody tr th {\n",
       "        vertical-align: top;\n",
       "    }\n",
       "\n",
       "    .dataframe thead th {\n",
       "        text-align: right;\n",
       "    }\n",
       "</style>\n",
       "<table border=\"1\" class=\"dataframe\">\n",
       "  <thead>\n",
       "    <tr style=\"text-align: right;\">\n",
       "      <th></th>\n",
       "      <th>tentado_consumado</th>\n",
       "      <th>0</th>\n",
       "    </tr>\n",
       "  </thead>\n",
       "  <tbody>\n",
       "    <tr>\n",
       "      <th>0</th>\n",
       "      <td>CONSUMADO</td>\n",
       "      <td>38</td>\n",
       "    </tr>\n",
       "    <tr>\n",
       "      <th>1</th>\n",
       "      <td>TENTADO</td>\n",
       "      <td>60</td>\n",
       "    </tr>\n",
       "  </tbody>\n",
       "</table>\n",
       "</div>"
      ],
      "text/plain": [
       "  tentado_consumado   0\n",
       "0         CONSUMADO  38\n",
       "1           TENTADO  60"
      ]
     },
     "execution_count": 37,
     "metadata": {},
     "output_type": "execute_result"
    }
   ],
   "source": [
    "from unidecode import unidecode\n",
    "fe[fe.municipio_fato == unidecode(\"Belo Horizonte\")].groupby(['tentado_consumado']).size().reset_index()"
   ]
  },
  {
   "cell_type": "code",
   "execution_count": 51,
   "id": "f29d8ce6",
   "metadata": {},
   "outputs": [
    {
     "data": {
      "text/plain": [
       "tentado_consumado\n",
       "CONSUMADO    60951\n",
       "TENTADO        585\n",
       "Name: count, dtype: int64"
      ]
     },
     "execution_count": 51,
     "metadata": {},
     "output_type": "execute_result"
    }
   ],
   "source": [
    "vi.tentado_consumado.value_counts()"
   ]
  }
 ],
 "metadata": {
  "kernelspec": {
   "display_name": "fiquesegura-HTm4KgBF-py3.10",
   "language": "python",
   "name": "python3"
  },
  "language_info": {
   "codemirror_mode": {
    "name": "ipython",
    "version": 3
   },
   "file_extension": ".py",
   "mimetype": "text/x-python",
   "name": "python",
   "nbconvert_exporter": "python",
   "pygments_lexer": "ipython3",
   "version": "3.10.12"
  }
 },
 "nbformat": 4,
 "nbformat_minor": 5
}
